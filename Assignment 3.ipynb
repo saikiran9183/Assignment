{
 "cells": [
  {
   "cell_type": "raw",
   "id": "ceb857ff",
   "metadata": {},
   "source": [
    "1. Why are functions advantageous to have in your programs?\n",
    "\n",
    "Ans: The advantages of functions to have in your programs are, it reduces the need of duplicate code. It makes the program shorter, easier to read and easier to update."
   ]
  },
  {
   "cell_type": "raw",
   "id": "b3d77cc4",
   "metadata": {},
   "source": [
    "2. When does the code in a function run: when it's specified or when it's called?\n",
    "\n",
    "Ans: The code in the function gets executed when it is called but not when it is specified."
   ]
  },
  {
   "cell_type": "raw",
   "id": "0b1e0dc7",
   "metadata": {},
   "source": [
    "3. What statement creates a function?\n",
    "\n",
    "Ans: The statement 'def' is used to create a function"
   ]
  },
  {
   "cell_type": "raw",
   "id": "bda49ece",
   "metadata": {},
   "source": [
    "4. What is the difference between a function and a function call?\n",
    "\n",
    "Ans: Function consists of a block of code enclosed in def clause that performs a particular operation and returns a result. whereas Function call  is used to inherit the code present in it and also performs the same operations."
   ]
  },
  {
   "cell_type": "raw",
   "id": "b3a0374d",
   "metadata": {},
   "source": [
    "5. How many global scopes are there in a Python program? How many local scopes?\n",
    "\n",
    "Ans: There is one global scope and one local scope are created whenever a function is called."
   ]
  },
  {
   "cell_type": "raw",
   "id": "cefaf0f4",
   "metadata": {},
   "source": [
    "6. What happens to variables in a local scope when the function call returns?\n",
    "\n",
    "Ans: When the fuction calls return the variables in the local scope are destroyed and lost."
   ]
  },
  {
   "cell_type": "raw",
   "id": "ab24c3f7",
   "metadata": {},
   "source": [
    "7. What is the concept of a return value? Is it possible to have a return value in an expression?\n",
    "\n",
    "Ans: A return statement is used to end the execution of the function and returns the result. The statements after the return are not execuetd. return value can also be used as a part of an expression."
   ]
  },
  {
   "cell_type": "raw",
   "id": "5ba89318",
   "metadata": {},
   "source": [
    "8. If a function does not have a return statement, what is the return value of a call to that function?\n",
    "\n",
    "Ans: If there is no return statement in the function, then the type of the function is of Nonetype."
   ]
  },
  {
   "cell_type": "raw",
   "id": "2a582414",
   "metadata": {},
   "source": [
    "9. How do you make a function variable refer to the global variable?\n",
    "\n",
    "Ans: The global keyword is used to make a variable in the function to global variable."
   ]
  },
  {
   "cell_type": "raw",
   "id": "5361361f",
   "metadata": {},
   "source": [
    "10. What is the data type of None?\n",
    "\n",
    "Ans: The data type of None is Nonetype."
   ]
  },
  {
   "cell_type": "raw",
   "id": "f05fa934",
   "metadata": {},
   "source": [
    "11. What does the sentence import areallyourpetsnamederic do?\n",
    "\n",
    "Ans: Import statement imports the module named areallyourpetsnamederic."
   ]
  },
  {
   "cell_type": "raw",
   "id": "b515d64a",
   "metadata": {},
   "source": [
    "12. If you had a bacon() feature in a spam module, what would you call it after importing spam?\n",
    "\n",
    "Ans: spam.bacon() is used to call the bacon function in spam module."
   ]
  },
  {
   "cell_type": "raw",
   "id": "0561161e",
   "metadata": {},
   "source": [
    "13. What can you do to save a programme from crashing if it encounters an error?\n",
    "\n",
    "Ans: In order to save a programme from crashing you must enclose the code in a try clause."
   ]
  },
  {
   "cell_type": "raw",
   "id": "8c4d9663",
   "metadata": {},
   "source": [
    "14. What is the purpose of the try clause? What is the purpose of the except clause?\n",
    "\n",
    "Ans: The try clause will check for the compilation error in the code whereas the except clause will handle the error."
   ]
  },
  {
   "cell_type": "code",
   "execution_count": null,
   "id": "87dd76bb",
   "metadata": {},
   "outputs": [],
   "source": []
  }
 ],
 "metadata": {
  "kernelspec": {
   "display_name": "Python 3",
   "language": "python",
   "name": "python3"
  },
  "language_info": {
   "codemirror_mode": {
    "name": "ipython",
    "version": 3
   },
   "file_extension": ".py",
   "mimetype": "text/x-python",
   "name": "python",
   "nbconvert_exporter": "python",
   "pygments_lexer": "ipython3",
   "version": "3.8.8"
  }
 },
 "nbformat": 4,
 "nbformat_minor": 5
}
