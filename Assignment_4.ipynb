{
 "cells": [
  {
   "cell_type": "raw",
   "id": "99c2e933",
   "metadata": {},
   "source": [
    "1. What exactly is []?\n",
    "\n",
    "Ans: [] means an empty list value that contains no items."
   ]
  },
  {
   "cell_type": "raw",
   "id": "eefbf510",
   "metadata": {},
   "source": [
    "2. In a list of values stored in a variable called spam, how would you assign the value 'hello' as the third value? (Assume [2, 4, 6, 8, 10] are in spam.)\n",
    "\n",
    "Ans: spam[2] = 'hello' is the notation used for assigning a value to a given list"
   ]
  },
  {
   "cell_type": "raw",
   "id": "86909300",
   "metadata": {},
   "source": [
    "Let's pretend the spam includes the list ['a', 'b', 'c', 'd'] for the next three queries."
   ]
  },
  {
   "cell_type": "raw",
   "id": "0e2ff27b",
   "metadata": {},
   "source": [
    "3. What is the value of spam[int(int('3' * 2) / 11)]?\n",
    "\n",
    "Ans: It returns 'd'. start from the middle of the expression i.e.,('3' *2) it gives the value '33' because here 3 is a string and concatination operation is performed. int('33') will convert the str into int type and returns 33. int(33/11) gives 3 as an output. finally, spam[3] will return the value as 'd'."
   ]
  },
  {
   "cell_type": "raw",
   "id": "4920eacc",
   "metadata": {},
   "source": [
    "4. What is the value of spam[-1]?\n",
    "\n",
    "Ans: The value of spam[-1] is 'd'"
   ]
  },
  {
   "cell_type": "raw",
   "id": "a692629d",
   "metadata": {},
   "source": [
    "5. What is the value of spam[:2]?\n",
    "\n",
    "Ans: The value of spam[:2] returns a list of ['a', 'b', 'c']"
   ]
  },
  {
   "cell_type": "raw",
   "id": "75d74108",
   "metadata": {},
   "source": [
    "Let's pretend bacon has the list [3.14, 'cat', 11, 'cat', True] for the next three questions."
   ]
  },
  {
   "cell_type": "raw",
   "id": "f47a5624",
   "metadata": {},
   "source": [
    "6. What is the value of bacon.index('cat')?\n",
    "\n",
    "Ans: The value of bacon.index('cat') is 1"
   ]
  },
  {
   "cell_type": "raw",
   "id": "c743cc56",
   "metadata": {},
   "source": [
    "7. How does bacon.append(99) change the look of the list value in bacon?\n",
    "\n",
    "Ans: bacon.append(99) will add the value 99 to the end of the list and the list bacon becomes [3.14, 'cat', 11, 'cat', True, 99]."
   ]
  },
  {
   "cell_type": "raw",
   "id": "280f4b99",
   "metadata": {},
   "source": [
    "8. How does bacon.remove('cat') change the look of the list in bacon?\n",
    "\n",
    "Ans:  bacon.remove('cat') will remove the string 'cat' from the list. The list becomes as [3.14, 11, 'cat', True, 99]."
   ]
  },
  {
   "cell_type": "raw",
   "id": "51380fb5",
   "metadata": {},
   "source": [
    "9. What are the list concatenation and list replication operators?\n",
    "\n",
    "Ans: The operator for list concatenation is +, while the operator for replication is *."
   ]
  },
  {
   "cell_type": "raw",
   "id": "c8c1befb",
   "metadata": {},
   "source": [
    "10. What is difference between the list methods append() and insert()?\n",
    "\n",
    "Ans: append() method adds the elements only at the end of the list. whereas insert() method is used to add the specific element at a specific index of the list."
   ]
  },
  {
   "cell_type": "raw",
   "id": "2dbedfa0",
   "metadata": {},
   "source": [
    "11. What are the two methods for removing items from a list?\n",
    "\n",
    "Ans: The methods remove() and pop() are used for removing the items from a list. remove() method is used to remove the first given element from the list. pop() method is used to remove an element from the list based on the index given."
   ]
  },
  {
   "cell_type": "raw",
   "id": "59a236cf",
   "metadata": {},
   "source": [
    "12. Describe how list values and string values are identical.\n",
    "\n",
    "Ans: Both strings and lists have lengths: a string's length is the number of characters in the string; a list's length is the number of items in the list. Each character in a string as well as each item in a list has a position, also called an index."
   ]
  },
  {
   "cell_type": "raw",
   "id": "91046f3b",
   "metadata": {},
   "source": [
    "13. What's the difference between tuples and lists?\n",
    "\n",
    "Ans: List is dynamic in nature whereas tuple is static. which means list can be modified whereas tuples cnot be modified. "
   ]
  },
  {
   "cell_type": "raw",
   "id": "8390f2b1",
   "metadata": {},
   "source": [
    "14. How do you type a tuple value that only contains the integer 42?\n",
    "\n",
    "Ans: (42,) is typed to create a tuple containing only integer 42."
   ]
  },
  {
   "cell_type": "raw",
   "id": "0e01f3bd",
   "metadata": {},
   "source": [
    "15. How do you get a list value's tuple form? How do you get a tuple value's list form?\n",
    "\n",
    "Ans: If you want to convert a Python list to a tuple, you can use the tuple() function to pass the full list as an argument, and it will return the tuple data type as an output."
   ]
  },
  {
   "cell_type": "raw",
   "id": "8500607b",
   "metadata": {},
   "source": [
    "16. Variables that \"contain\" list values are not necessarily lists themselves. Instead, what do they contain?\n",
    "\n",
    "Ans: They contain references to list values."
   ]
  },
  {
   "cell_type": "raw",
   "id": "fc038a72",
   "metadata": {},
   "source": [
    "17. How do you distinguish between copy.copy() and copy.deepcopy()?\n",
    "\n",
    "Ans: The copy.copy() function will do a shallow copy of a list, while the copy.deepcopy() function will do a deep copy of a list. That is, only copy.deepcopy() will duplicate any lists inside the list."
   ]
  },
  {
   "cell_type": "code",
   "execution_count": null,
   "id": "a53df46c",
   "metadata": {},
   "outputs": [],
   "source": []
  }
 ],
 "metadata": {
  "kernelspec": {
   "display_name": "Python 3",
   "language": "python",
   "name": "python3"
  },
  "language_info": {
   "codemirror_mode": {
    "name": "ipython",
    "version": 3
   },
   "file_extension": ".py",
   "mimetype": "text/x-python",
   "name": "python",
   "nbconvert_exporter": "python",
   "pygments_lexer": "ipython3",
   "version": "3.8.8"
  }
 },
 "nbformat": 4,
 "nbformat_minor": 5
}
