{
 "cells": [
  {
   "cell_type": "raw",
   "id": "e66573b7",
   "metadata": {},
   "source": [
    "1. What are escape characters, and how do you use them?\n",
    "\n",
    "Ans: Escape characters represent characters in strinng values that would be difficult or impossible to type into code. "
   ]
  },
  {
   "cell_type": "raw",
   "id": "3ce32268",
   "metadata": {},
   "source": [
    "2. What do the escape characters n and t stand for?\n",
    "\n",
    "Ans: \\n stands for new line and \\t stands for tab"
   ]
  },
  {
   "cell_type": "raw",
   "id": "58fa2d6e",
   "metadata": {},
   "source": [
    "3. What is the way to include backslash characters in a string?\n",
    "\n",
    "Ans: To include backlash character in a string, you need to use two backlashes (\\\\)."
   ]
  },
  {
   "cell_type": "raw",
   "id": "51a16e85",
   "metadata": {},
   "source": [
    "4. The string \"Howl's Moving Castle\" is a correct value. Why isn't the single quote character in the word Howl's not escaped a problem?\n",
    "\n",
    "Ans: Because you have used double quotes at the beginning and end of the string."
   ]
  },
  {
   "cell_type": "raw",
   "id": "fa53ff6b",
   "metadata": {},
   "source": [
    "5. How do you write a string of newlines if you don't want to use the n character?\n",
    "\n",
    "Ans: \\n is used at the end of each newline."
   ]
  },
  {
   "cell_type": "raw",
   "id": "4d0e54d3",
   "metadata": {},
   "source": [
    "6. What are the values of the given expressions?\n",
    "'Hello, world!'[1]\n",
    "'Hello, world!'[0:5]\n",
    "'Hello, world!'[:5]\n",
    "'Hello, world!'[3:]\n",
    "\n",
    "Ans: 'e'\n",
    "     'Hello'\n",
    "     'Hello'\n",
    "     'lo, world!'"
   ]
  },
  {
   "cell_type": "raw",
   "id": "2cd35931",
   "metadata": {},
   "source": [
    "7. What are the values of the following expressions?\n",
    "'Hello'.upper()\n",
    "'Hello'.upper().isupper()\n",
    "'Hello'.upper().lower()\n",
    "\n",
    "Ans: 'HELLO'\n",
    "      True\n",
    "      'hello'\n"
   ]
  },
  {
   "cell_type": "raw",
   "id": "6ee0190f",
   "metadata": {},
   "source": [
    "8. What are the values of the following expressions?\n",
    "    'Remember, remember, the fifth of July.'.split()\n",
    "    '-'.join('There can only one.'.split())\n",
    "\n",
    "Ans: ['Remember,', 'remember,', 'the', 'fifth', 'of', 'July.']\n",
    "     'There-can-only-one.'"
   ]
  },
  {
   "cell_type": "raw",
   "id": "e7c6132a",
   "metadata": {},
   "source": [
    "9. What are the methods for right-justifying, left-justifying, and centering a string?\n",
    "\n",
    "Ans: rjust(), ljust(), center() are the methods used for justifyig a string."
   ]
  },
  {
   "cell_type": "raw",
   "id": "e6622b67",
   "metadata": {},
   "source": [
    "10. What is the best way to remove whitespace characters from the start or end?\n",
    "\n",
    "Ans: .strip() method is used to remove whitespace characters from the beginning and the end of a string."
   ]
  },
  {
   "cell_type": "code",
   "execution_count": null,
   "id": "322fcac3",
   "metadata": {},
   "outputs": [],
   "source": []
  }
 ],
 "metadata": {
  "kernelspec": {
   "display_name": "Python 3",
   "language": "python",
   "name": "python3"
  },
  "language_info": {
   "codemirror_mode": {
    "name": "ipython",
    "version": 3
   },
   "file_extension": ".py",
   "mimetype": "text/x-python",
   "name": "python",
   "nbconvert_exporter": "python",
   "pygments_lexer": "ipython3",
   "version": "3.8.8"
  }
 },
 "nbformat": 4,
 "nbformat_minor": 5
}
