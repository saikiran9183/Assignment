{
 "cells": [
  {
   "cell_type": "raw",
   "id": "6a6ad043",
   "metadata": {},
   "source": [
    "1.What are the two values of the Boolean data type? How do you write them?\n",
    "\n",
    "Ans: The two values of the Boolean data types are True and False. "
   ]
  },
  {
   "cell_type": "raw",
   "id": "4afdb0d5",
   "metadata": {},
   "source": [
    "2. What are the three different types of Boolean operators?\n",
    "\n",
    "Ans: The three types of Boolean operators are AND, OR and NOT."
   ]
  },
  {
   "cell_type": "raw",
   "id": "e7259123",
   "metadata": {},
   "source": [
    "3. Make a list of each Boolean operator's truth tables (i.e. every possible combination of Boolean values for the operator and what it evaluate ).\n",
    "\n",
    "Ans: True is 1 and False is 0\n",
    "    Truth Table for AND:\n",
    "    A B output\n",
    "    0 0 0\n",
    "    0 1 0\n",
    "    1 0 0\n",
    "    1 1 1\n",
    "    \n",
    "    Truth table for OR:\n",
    "    A B Output\n",
    "    0 0 0\n",
    "    0 1 1\n",
    "    1 0 1\n",
    "    1 1 1\n",
    "    \n",
    "    Truth table for NOT:\n",
    "    A output\n",
    "    0 1\n",
    "    1 0"
   ]
  },
  {
   "cell_type": "raw",
   "id": "3ed11550",
   "metadata": {},
   "source": [
    "4. What are the values of the following expressions?\n",
    "\n",
    "1.(5 > 4) and (3 == 5)\n",
    "2.not (5 > 4)\n",
    "3.(5 > 4) or (3 == 5)\n",
    "4.not ((5 > 4) or (3 == 5))\n",
    "5.(True and True) and (True == False)\n",
    "6.(not False) or (not True)\n",
    "\n",
    "Ans:1. False\n",
    "    2. False\n",
    "    3. True\n",
    "    4. False\n",
    "    5. False\n",
    "    6. True"
   ]
  },
  {
   "cell_type": "raw",
   "id": "49672b66",
   "metadata": {},
   "source": [
    "5. What are the six comparison operators?\n",
    "\n",
    "Ans: The six comparision operators are <, >, ==, <=, >= and !="
   ]
  },
  {
   "cell_type": "raw",
   "id": "7ad74b8e",
   "metadata": {},
   "source": [
    "6. How do you tell the difference between the equal to and assignment operators?Describe a condition and when you would use one.\n",
    "\n",
    "Ans: Equal to(==) operator compares the two values and evaluates a boolean output, while assignment(=) operator is used to assign a value to a variable."
   ]
  },
  {
   "cell_type": "code",
   "execution_count": 3,
   "id": "d71cdc2e",
   "metadata": {},
   "outputs": [
    {
     "name": "stdout",
     "output_type": "stream",
     "text": [
      "False\n",
      "10\n"
     ]
    }
   ],
   "source": [
    "# Equal to operator\n",
    "if 5==6:\n",
    "    print(True)\n",
    "else:\n",
    "    print(False)\n",
    "    \n",
    "#Assignment operator\n",
    "a = 10\n",
    "print(a)"
   ]
  },
  {
   "cell_type": "raw",
   "id": "43da6caa",
   "metadata": {},
   "source": [
    "7. Identify the three blocks in this code:"
   ]
  },
  {
   "cell_type": "code",
   "execution_count": 1,
   "id": "721d945a",
   "metadata": {},
   "outputs": [
    {
     "name": "stdout",
     "output_type": "stream",
     "text": [
      "ham\n",
      "spam\n",
      "spam\n"
     ]
    }
   ],
   "source": [
    "spam = 0\n",
    "if spam == 10:\n",
    "    print('eggs') # Block 1\n",
    "if spam > 5:\n",
    "    print('bacon') # Block 2\n",
    "else:\n",
    "    print('ham') # Block 3\n",
    "    print('spam')\n",
    "    print('spam')\n"
   ]
  },
  {
   "cell_type": "raw",
   "id": "fa60f56b",
   "metadata": {},
   "source": [
    "8. Write code that prints Hello if 1 is stored in spam, prints Howdy if 2 is stored in spam, and prints Greetings! if anything else is stored in spam."
   ]
  },
  {
   "cell_type": "code",
   "execution_count": 7,
   "id": "59c2e830",
   "metadata": {},
   "outputs": [
    {
     "name": "stdout",
     "output_type": "stream",
     "text": [
      "input a no:1\n",
      "Hello\n"
     ]
    }
   ],
   "source": [
    "spam = int(input(\"input a no:\"))\n",
    "if spam == 1:\n",
    "    print(\"Hello\")\n",
    "elif spam == 2:\n",
    "    print(\"Howdy\")\n",
    "else:\n",
    "    print(\"Greetings!\")"
   ]
  },
  {
   "cell_type": "raw",
   "id": "ab53b253",
   "metadata": {},
   "source": [
    "9.If your programme is stuck in an endless loop, what keys you’ll press?\n",
    "\n",
    "Ans: 'ctrl+c' is the key used to come out of an endless loop."
   ]
  },
  {
   "cell_type": "raw",
   "id": "e093c275",
   "metadata": {},
   "source": [
    "10. How can you tell the difference between break and continue?"
   ]
  },
  {
   "cell_type": "code",
   "execution_count": 8,
   "id": "9ab8a254",
   "metadata": {},
   "outputs": [
    {
     "name": "stdout",
     "output_type": "stream",
     "text": [
      "0\n",
      "1\n",
      "2\n",
      "3\n",
      "4\n",
      "5\n"
     ]
    }
   ],
   "source": [
    "# Break statement\n",
    "for i in range(10):\n",
    "    if i==6:\n",
    "        break\n",
    "    print(i)"
   ]
  },
  {
   "cell_type": "code",
   "execution_count": 9,
   "id": "3d5ef9b0",
   "metadata": {},
   "outputs": [
    {
     "name": "stdout",
     "output_type": "stream",
     "text": [
      "0\n",
      "1\n",
      "2\n",
      "3\n",
      "4\n",
      "5\n",
      "7\n",
      "8\n",
      "9\n"
     ]
    }
   ],
   "source": [
    "#continue statement\n",
    "for i in range(10):\n",
    "    if i==6:\n",
    "        continue\n",
    "    print(i)"
   ]
  },
  {
   "cell_type": "raw",
   "id": "52f98953",
   "metadata": {},
   "source": [
    "After the execution of break and continue statements, we can conclude that if the condition is satisfied break statement will stop executing the output whereas continue statement will continue executing without printing the output of satisfied condition."
   ]
  },
  {
   "cell_type": "raw",
   "id": "bb376fbe",
   "metadata": {},
   "source": [
    "11. In a for loop, what is the difference between range(10), range(0, 10), and range(0, 10, 1)?\n",
    "\n",
    "Ans: The output of all the three are same. range(10) gives the output from 0 to excluding 10. range(0, 10) tells that the loop will start 0 whereas range(0, 10, 1) tells that loop will start at 0, ends at 9 and the step size is 1. "
   ]
  },
  {
   "cell_type": "raw",
   "id": "e0126746",
   "metadata": {},
   "source": [
    "12. Write a short program that prints the numbers 1 to 10 using a for loop. Then write an equivalent program that prints the numbers 1 to 10 using a while loop."
   ]
  },
  {
   "cell_type": "code",
   "execution_count": 10,
   "id": "0e9f041f",
   "metadata": {},
   "outputs": [
    {
     "name": "stdout",
     "output_type": "stream",
     "text": [
      "1\n",
      "2\n",
      "3\n",
      "4\n",
      "5\n",
      "6\n",
      "7\n",
      "8\n",
      "9\n",
      "10\n"
     ]
    }
   ],
   "source": [
    "# for loop\n",
    "for i in range(1,11):\n",
    "    print(i)"
   ]
  },
  {
   "cell_type": "code",
   "execution_count": 12,
   "id": "39109c7f",
   "metadata": {},
   "outputs": [
    {
     "name": "stdout",
     "output_type": "stream",
     "text": [
      "1\n",
      "2\n",
      "3\n",
      "4\n",
      "5\n",
      "6\n",
      "7\n",
      "8\n",
      "9\n",
      "10\n"
     ]
    }
   ],
   "source": [
    "# while loop\n",
    "i = 1\n",
    "while i<11:\n",
    "    print(i)\n",
    "    i= i+1"
   ]
  },
  {
   "cell_type": "raw",
   "id": "fe7815c0",
   "metadata": {},
   "source": [
    "13. If you had a function named bacon() inside a module named spam, how would you call it after importing spam?\n",
    "\n",
    "Ans: spam.bacon()"
   ]
  },
  {
   "cell_type": "code",
   "execution_count": null,
   "id": "f307105a",
   "metadata": {},
   "outputs": [],
   "source": []
  }
 ],
 "metadata": {
  "kernelspec": {
   "display_name": "Python 3",
   "language": "python",
   "name": "python3"
  },
  "language_info": {
   "codemirror_mode": {
    "name": "ipython",
    "version": 3
   },
   "file_extension": ".py",
   "mimetype": "text/x-python",
   "name": "python",
   "nbconvert_exporter": "python",
   "pygments_lexer": "ipython3",
   "version": "3.8.8"
  }
 },
 "nbformat": 4,
 "nbformat_minor": 5
}
