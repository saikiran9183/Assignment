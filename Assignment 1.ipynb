{
 "cells": [
  {
   "cell_type": "raw",
   "id": "d22ce222",
   "metadata": {},
   "source": [
    "1. In the below elements which of them are values or an expression? eg:- values can be integer or string and expressions will be mathematical operators.\n",
    "* \n",
    "'hello'\n",
    "-87.8\n",
    "- \n",
    "/ \n",
    "+\t\n",
    "6 \n",
    "\n",
    "Ans: * is a mathematical multiplication operator. So, it is an       expression.\n",
    "    'hello' is a string. So, it is a value.\n",
    "    -87.8 is an integer. So, it is a value.\n",
    "    - is a mathematical subtraction operator.\n",
    "    / is a mathematical division operator. \n",
    "    + is a mathematical addition operator. \n",
    "    6 is an integer. So, it is a value."
   ]
  },
  {
   "cell_type": "raw",
   "id": "bb85600a",
   "metadata": {},
   "source": [
    "2. What is the difference between string and variable?\n",
    "\n",
    "Ans: Variable is used to store the data or information. whereas, string is a datatype that you would like to store in a variable. string is usually words enclosed in \"\"."
   ]
  },
  {
   "cell_type": "raw",
   "id": "601c1316",
   "metadata": {},
   "source": [
    "3. Describe three different data types.\n",
    "\n",
    "Ans: 1.Integer(int): Integer contains positive or negative whole numbers without fraction or decimal points.\n",
    "\n",
    "    2.Float: Float is a real number represented with floating point. It is specified by a decimal point.\n",
    "    \n",
    "    3.String(str): String is a collection of one or more characters enclosed in a single quote, double-quote or triple quote. whereas character is a string of length one. "
   ]
  },
  {
   "cell_type": "raw",
   "id": "8cf47860",
   "metadata": {},
   "source": [
    "4. What is an expression made up of? What do all expressions do?\n",
    "\n",
    "Ans: An expression is made up of operators and operands that is interpreted to produce some other value. An expression is evaluated as per the precedence of its operators. So that if there is more than one operators in an expression, their precedence will decides which operation will be performed first."
   ]
  },
  {
   "cell_type": "raw",
   "id": "b6393982",
   "metadata": {},
   "source": [
    "5. This assignment statements, like spam = 10. What is the difference between an expression and a statement?\n",
    "\n",
    "Ans: Expression is a combination of variables, operations and values that yields a resulted value whereas statements represents an action or commands."
   ]
  },
  {
   "cell_type": "raw",
   "id": "741847e5",
   "metadata": {},
   "source": [
    "6. After running the following code, what does the variable bacon contain?\n",
    "bacon = 22\n",
    "bacon + 1\n",
    "\n",
    "Ans:The variable bacon is assigned with 22. But the expression bacon + 1 is not reassigned to the value in bacon. So you need an assignment statement: bacon = bacon+1 to successfully run the code."
   ]
  },
  {
   "cell_type": "raw",
   "id": "4a655658",
   "metadata": {},
   "source": [
    "7. What should the values of the following two terms be?\n",
    "'spam' + 'spamspam'\n",
    "'spam' * 3\n",
    "\n",
    "Ans: The values of both the expressions are same i.e., 'spamspamspam'"
   ]
  },
  {
   "cell_type": "raw",
   "id": "0d183df9",
   "metadata": {},
   "source": [
    "8. Why is eggs a valid variable name while 100 is invalid?\n",
    "\n",
    "Ans: Because you cannot use numbers as variable names you can only use alphabets for naming a variable."
   ]
  },
  {
   "cell_type": "raw",
   "id": "bbfe613a",
   "metadata": {},
   "source": [
    "9. What three functions can be used to get the integer, floating-point number, or string version of a value?\n",
    "\n",
    "Ans: The functions int(), float() and str() are used to evaluate the integer, floating-point number and string version of a value."
   ]
  },
  {
   "cell_type": "raw",
   "id": "ea136197",
   "metadata": {},
   "source": [
    "10. Why does this expression cause an error? How can you fix it?\n",
    "'I have eaten ' + 99 + ' burritos.'\n",
    "\n",
    "Ans: The expression will cause an error because 99 is an integer and concatination is not possible. To concatinate, we need to convert integer into string using str() function. The correct way to represent the expression is 'I have eaten' + str(99) + 'burritos.' "
   ]
  },
  {
   "cell_type": "code",
   "execution_count": null,
   "id": "d55370a8",
   "metadata": {},
   "outputs": [],
   "source": []
  }
 ],
 "metadata": {
  "kernelspec": {
   "display_name": "Python 3",
   "language": "python",
   "name": "python3"
  },
  "language_info": {
   "codemirror_mode": {
    "name": "ipython",
    "version": 3
   },
   "file_extension": ".py",
   "mimetype": "text/x-python",
   "name": "python",
   "nbconvert_exporter": "python",
   "pygments_lexer": "ipython3",
   "version": "3.8.8"
  }
 },
 "nbformat": 4,
 "nbformat_minor": 5
}
